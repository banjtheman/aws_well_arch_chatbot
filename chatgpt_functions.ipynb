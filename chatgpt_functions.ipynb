{
 "cells": [
  {
   "cell_type": "markdown",
   "id": "98832f50",
   "metadata": {},
   "source": [
    "# ChatGPT Functions\n",
    "\n",
    "This is ChatGPT response to \"agents\" and \"tools\". This notebook will be a playground for me to test how good it is."
   ]
  },
  {
   "cell_type": "code",
   "execution_count": 1,
   "id": "6380186d",
   "metadata": {},
   "outputs": [],
   "source": [
    "from langchain.vectorstores import FAISS\n",
    "from langchain.embeddings import OpenAIEmbeddings\n",
    "import openai\n",
    "import json\n",
    "import os\n",
    "from tenacity import retry, wait_random_exponential, stop_after_attempt\n",
    "from IPython.display import display, Markdown, Latex\n",
    "import requests\n",
    "import tiktoken\n",
    "from tqdm import tqdm\n",
    "from termcolor import colored\n",
    "\n",
    "GPT_MODEL = \"gpt-3.5-turbo-0613\"\n",
    "EMBEDDING_MODEL = \"text-embedding-ada-002\""
   ]
  },
  {
   "cell_type": "markdown",
   "id": "02b37e9e",
   "metadata": {},
   "source": [
    "## Utilities\n",
    "\n",
    "First let's define a few utilities for making calls to the Chat Completions API and for maintaining and keeping track of the conversation state"
   ]
  },
  {
   "cell_type": "code",
   "execution_count": 2,
   "id": "87751c34",
   "metadata": {},
   "outputs": [],
   "source": [
    "@retry(wait=wait_random_exponential(min=1, max=40), stop=stop_after_attempt(3))\n",
    "def chat_completion_request(messages, functions=None, model=GPT_MODEL):\n",
    "    headers = {\n",
    "        \"Content-Type\": \"application/json\",\n",
    "        \"Authorization\": \"Bearer \" + openai.api_key,\n",
    "    }\n",
    "    json_data = {\"model\": model, \"messages\": messages}\n",
    "    if functions is not None:\n",
    "        json_data.update({\"functions\": functions})\n",
    "        # Auto call our function \n",
    "#         # HARD CODED\n",
    "#         json_data[\"function_call\"] = {\"name\": \"get_well_arch_info\"}\n",
    "\n",
    "    try:\n",
    "        response = requests.post(\n",
    "            \"https://api.openai.com/v1/chat/completions\",\n",
    "            headers=headers,\n",
    "            json=json_data,\n",
    "        )\n",
    "        \n",
    "        return response\n",
    "    except Exception as e:\n",
    "        print(\"Unable to generate ChatCompletion response\")\n",
    "        print(f\"Exception: {e}\")\n",
    "        return e"
   ]
  },
  {
   "cell_type": "code",
   "execution_count": 3,
   "id": "d0a35df0",
   "metadata": {},
   "outputs": [],
   "source": [
    "def call_chat_api(messages, functions, model=GPT_MODEL):\n",
    "    \n",
    "    response = openai.ChatCompletion.create(\n",
    "        model=GPT_MODEL,\n",
    "        messages=messages,\n",
    "        functions=functions,\n",
    "        function_call= {\"name\": \"get_well_arch_info\"}\n",
    "    ) \n",
    "    \n",
    "    print(response)\n",
    "    \n",
    "    return response\n",
    "\n"
   ]
  },
  {
   "cell_type": "code",
   "execution_count": 4,
   "id": "84755aa6",
   "metadata": {},
   "outputs": [],
   "source": [
    "class Conversation:\n",
    "    def __init__(self):\n",
    "        self.conversation_history = []\n",
    "\n",
    "    def add_message(self, role, content):\n",
    "        message = {\"role\": role, \"content\": content}\n",
    "        self.conversation_history.append(message)\n",
    "\n",
    "    def display_conversation(self, detailed=False):\n",
    "        role_to_color = {\n",
    "            \"system\": \"red\",\n",
    "            \"user\": \"green\",\n",
    "            \"assistant\": \"blue\",\n",
    "            \"function\": \"magenta\",\n",
    "        }\n",
    "        for message in self.conversation_history:\n",
    "            print(\n",
    "                colored(\n",
    "                    f\"{message['role']}: {message['content']}\\n\\n\",\n",
    "                    role_to_color[message[\"role\"]],\n",
    "                )\n",
    "            )"
   ]
  },
  {
   "cell_type": "code",
   "execution_count": 5,
   "id": "79983c39",
   "metadata": {},
   "outputs": [],
   "source": [
    "# Initialize Vectorstore\n",
    "embeddings = OpenAIEmbeddings(openai_api_key=os.environ[\"OPENAI_API_KEY\"])\n",
    "vectorstore = FAISS.load_local(\"local_index\", embeddings)\n",
    "retriever = vectorstore.as_retriever()"
   ]
  },
  {
   "cell_type": "code",
   "execution_count": 6,
   "id": "09462650",
   "metadata": {},
   "outputs": [],
   "source": [
    "# Create a function to get info from the book\n",
    "def get_well_arch_info(query):\n",
    "     \n",
    "    docs = retriever.get_relevant_documents(query)\n",
    "    doc_list = []\n",
    "    for doc in docs:\n",
    "        temp_json = {\"content\":doc.page_content,\"source\":doc.metadata['source']}\n",
    "        doc_list.append(temp_json)\n",
    "    \n",
    "    return doc_list"
   ]
  },
  {
   "cell_type": "code",
   "execution_count": 7,
   "id": "77eab516",
   "metadata": {},
   "outputs": [
    {
     "data": {
      "text/plain": [
       "[{'content': 'Amazon S3 supports several methods of encryption of your data at\\n      rest. Using server-side encryption, Amazon S3 accepts your objects\\n      as unencrypted data, and then encrypts them as they are stored.\\n      Using client-side encryption, your workload application is\\n      responsible for encrypting the data before it is sent to Amazon S3.\\n      Both methods allow you to use AWS Key Management Service (AWS KMS)\\n      to create and store the data key, or you can provide your own key,\\n      which you are then responsible for. Using AWS KMS, you can set\\n      policies using IAM on who can and cannot access your data keys and\\n      decrypted data.',\n",
       "  'source': 'https://docs.aws.amazon.com/wellarchitected/latest/framework/rel_backing_up_data_secured_backups_data.html'},\n",
       " {'content': 'Amazon S3 supports several methods of encryption of your data at\\n      rest. Using server-side encryption, Amazon S3 accepts your objects\\n      as unencrypted data, and then encrypts them as they are stored.\\n      Using client-side encryption, your workload application is\\n      responsible for encrypting the data before it is sent to Amazon S3.\\n      Both methods allow you to use AWS Key Management Service (AWS KMS)\\n      to create and store the data key, or you can provide your own key,\\n      which you are then responsible for. Using AWS KMS, you can set\\n      policies using IAM on who can and cannot access your data keys and\\n      decrypted data.',\n",
       "  'source': 'https://docs.aws.amazon.com/wellarchitected/latest/reliability-pillar/rel_backing_up_data_secured_backups_data.html'},\n",
       " {'content': 'reviewing access, it’s important to consider what types of data are contained in Amazon S3 buckets. Amazon Macie helps discover and protect sensitive data, such as PII, PHI, and credentials, such as private or AWS keys.',\n",
       "  'source': 'https://docs.aws.amazon.com/wellarchitected/latest/security-pillar/sec_permissions_analyze_cross_account.html'},\n",
       " {'content': 'reviewing access, it’s important to consider what types of data are contained in Amazon S3 buckets. Amazon Macie helps discover and protect sensitive data, such as PII, PHI, and credentials, such as private or AWS keys.',\n",
       "  'source': 'https://docs.aws.amazon.com/wellarchitected/latest/framework/sec_permissions_analyze_cross_account.html'}]"
      ]
     },
     "execution_count": 7,
     "metadata": {},
     "output_type": "execute_result"
    }
   ],
   "source": [
    "# Test Function\n",
    "query = \"How to store data securely on Amazon S3\"\n",
    "get_well_arch_info(query)"
   ]
  },
  {
   "cell_type": "code",
   "execution_count": 8,
   "id": "e2395076",
   "metadata": {},
   "outputs": [],
   "source": [
    "# Init ChatGPT Functions\n",
    "well_arch_functions = [\n",
    "    \n",
    "        {\n",
    "        \"name\": \"get_well_arch_info\",\n",
    "        \"description\": \"\"\"Use this function to get guidance from the AWS well architected framework\"\"\",\n",
    "        \"parameters\": {\n",
    "            \"type\": \"object\",\n",
    "            \"properties\": {\n",
    "                \"query\": {\n",
    "                    \"type\": \"string\",\n",
    "                    \"description\": f\"\"\"\n",
    "                            User query. Responses should be use the context from the AWS well architected framework to help the user. Always provide the links to source material. \n",
    "                            \"\"\",\n",
    "                }\n",
    "            },\n",
    "            \"required\": [\"query\"],\n",
    "        }\n",
    "        }\n",
    "]"
   ]
  },
  {
   "cell_type": "code",
   "execution_count": 9,
   "id": "fd0ffc1f",
   "metadata": {},
   "outputs": [],
   "source": [
    "def chat_completion_with_function_execution(messages, functions=[None]):\n",
    "    \"\"\"This function makes a ChatCompletion API call with the option of adding functions\"\"\"\n",
    "    response = chat_completion_request(messages, functions)\n",
    "    full_message = response.json()[\"choices\"][0]\n",
    "\n",
    "    \n",
    "#     response = call_chat_api(messages, functions)\n",
    "#     full_message = response[\"choices\"][0]\n",
    "#     print(\"Auto call function\")\n",
    "#     return call_well_arch_function(messages, full_message)\n",
    "\n",
    "    if full_message[\"finish_reason\"] == \"function_call\":\n",
    "        print(f\"Function generation requested, calling function\")\n",
    "        return call_well_arch_function(messages, full_message)\n",
    "    else:\n",
    "        print(f\"Function not required, responding to user\")\n",
    "        return response.json()\n",
    "    \n",
    "def call_well_arch_function(messages, full_message):\n",
    "    \"\"\"Function calling function which executes function calls when the model believes it is necessary.\"\"\"\n",
    "\n",
    "    if full_message[\"message\"][\"function_call\"][\"name\"] == \"get_well_arch_info\":\n",
    "        try:\n",
    "            parsed_output = json.loads(\n",
    "                full_message[\"message\"][\"function_call\"][\"arguments\"]\n",
    "            )\n",
    "            print(\"Getting info from AWS well architected framework\")\n",
    "            print(f\"User query: {parsed_output['query']}\")\n",
    "            guidance = get_well_arch_info(parsed_output[\"query\"])\n",
    "        except Exception as e:\n",
    "            print(parsed_output)\n",
    "            print(f\"Function execution failed\")\n",
    "            print(f\"Error message: {e}\")\n",
    "        \n",
    "        # Added the function message\n",
    "        messages.append(\n",
    "            {\n",
    "                \"role\": \"function\",\n",
    "                \"name\": full_message[\"message\"][\"function_call\"][\"name\"],\n",
    "                \"content\": str(guidance),\n",
    "            }\n",
    "        )\n",
    "    \n",
    "        # Send model the info on the function call and function response\n",
    "        second_response = openai.ChatCompletion.create(\n",
    "            model=GPT_MODEL,\n",
    "            messages=messages\n",
    "        )\n",
    "        return second_response    "
   ]
  },
  {
   "cell_type": "code",
   "execution_count": 10,
   "id": "27dae5c4",
   "metadata": {},
   "outputs": [],
   "source": [
    "# Start with a system message\n",
    "system_message = \"\"\"You are an expert AWS Certified Solutions Architect. Your role is to help customers understand best practices on building on AWS. Return your response in markdown, so you can bold and highlight important steps for customers. If the answer cannot be found within the context, write 'I could not find an answer'\"\"\" \n",
    "convo = Conversation()\n",
    "convo.add_message(\"system\", system_message)"
   ]
  },
  {
   "cell_type": "code",
   "execution_count": 11,
   "id": "7ab80ed6",
   "metadata": {},
   "outputs": [
    {
     "name": "stdout",
     "output_type": "stream",
     "text": [
      "Function generation requested, calling function\n",
      "Getting info from AWS well architected framework\n",
      "User query: store data securely on Amazon S3\n"
     ]
    },
    {
     "data": {
      "text/markdown": [
       "To store data securely on Amazon S3, you can follow these best practices outlined in the AWS Well-Architected Framework:\n",
       "\n",
       "1. **Access Control**: Apply **AWS Identity and Access Management (IAM)** policies to grant least privilege access to S3 buckets. Avoid using AWS root credentials and enable multi-factor authentication (MFA) for account access.\n",
       "\n",
       "2. **Encryption**: Use **Server-Side Encryption (SSE)** to protect data at rest within S3. SSE provides options like S3 Managed Keys (SSE-S3), AWS Key Management Service (SSE-KMS), or Server-Side Encryption with AWS Key Management Service (SSE-C).\n",
       "\n",
       "3. **Access Logging**: Enable **S3 server access logging** to record all requests made to your bucket and analyze potential security breaches or unauthorized access attempts.\n",
       "\n",
       "4. **Bucket Policies**: Use **bucket policies** to control access to S3 buckets from specific IP ranges or specific VPC endpoints. Configure the policies to deny public access by default and allow only necessary access privileges.\n",
       "\n",
       "5. **Lifecycle Management**: Implement **S3 lifecycle policies** to automatically transition objects to lower-cost storage classes like Amazon S3 Glacier or S3 Glacier Deep Archive after a specified time. This helps optimize costs while ensuring data availability.\n",
       "\n",
       "6. **Versioning**: Enable **S3 versioning** for your buckets to maintain multiple versions of an object. This helps in recovering from accidental modifications or deletions.\n",
       "\n",
       "7. **Cross-Region Replication**: Implement **cross-region replication** (CRR) for critical data to replicate objects across different AWS regions for disaster recovery and high availability. Use CRR with SSE-KMS encryption for enhanced security.\n",
       "\n",
       "8. **Data Backup**: Consider backing up critical data using **AWS Storage Gateway** or **AWS DataSync**. These services help backup on-premises data to the AWS Cloud using S3 buckets. You can also leverage different storage tiers like Amazon S3 Glacier or S3 Glacier Deep Archive to reduce storage costs.\n",
       "\n",
       "Remember to regularly review and audit your S3 settings and configurations to ensure ongoing security and compliance with your organization's policies.\n",
       "\n",
       "For more detailed information, please refer to the following AWS Well-Architected Framework documentation sources:\n",
       "\n",
       "- [AWS Well-Architected Framework - Security Pillar](https://docs.aws.amazon.com/wellarchitected/latest/framework/sus_sus_data_a7.html)\n",
       "- [AWS Well-Architected Framework - Performance Efficiency Pillar - Storage](https://docs.aws.amazon.com/wellarchitected/latest/framework/perf-storage.html)\n",
       "- [AWS Well-Architected Framework - Reliability Pillar - Backing Up Data](https://docs.aws.amazon.com/wellarchitected/latest/framework/rel_backing_up_data_identified_backups_data.html)"
      ],
      "text/plain": [
       "<IPython.core.display.Markdown object>"
      ]
     },
     "metadata": {},
     "output_type": "display_data"
    }
   ],
   "source": [
    "# Add a user message\n",
    "convo.add_message(\"user\", \"Hi, How to store data securely on Amazon S3? use info from the AWS well architected framework\")\n",
    "chat_response = chat_completion_with_function_execution(\n",
    "    convo.conversation_history, functions=well_arch_functions\n",
    ")\n",
    "assistant_message = chat_response[\"choices\"][0][\"message\"][\"content\"]\n",
    "convo.add_message(\"assistant\", assistant_message)\n",
    "display(Markdown(assistant_message))\n"
   ]
  },
  {
   "cell_type": "code",
   "execution_count": 12,
   "id": "b0333e40",
   "metadata": {},
   "outputs": [
    {
     "name": "stdout",
     "output_type": "stream",
     "text": [
      "Function generation requested, calling function\n",
      "Getting info from AWS well architected framework\n",
      "User query: How to secure EC2 instances on AWS?\n"
     ]
    },
    {
     "data": {
      "text/markdown": [
       "To secure your EC2 instances on AWS, you can follow these best practices from the AWS Well-Architected Framework:\n",
       "\n",
       "1. **Perform Vulnerability Management**: Regularly scan your EC2 instances for vulnerabilities using automated tools such as **Amazon Inspector** or third-party solutions. This helps identify and remediate any security weaknesses.\n",
       "\n",
       "2. **Reduce Attack Surface**: Minimize the attack surface by reducing unused components and services. Remove unnecessary operating system packages, applications, and external software modules in your code. Refer to hardening and security configuration guides, such as those provided by the **Center for Internet Security (CIS)**, to ensure secure configurations.\n",
       "\n",
       "3. **Implement Managed Services**: Utilize managed services provided by AWS, such as **AWS Identity and Access Management (IAM)** and **AWS Security Groups**. IAM allows you to manage user access and permissions, while Security Groups act as virtual firewalls to control inbound and outbound traffic to your instances.\n",
       "\n",
       "4. **Automate Compute Protection**: Automate security tasks using **AWS CloudFormation** or **AWS Systems Manager Automation**. This ensures consistency, efficiency, and reduces the risk of manual errors.\n",
       "\n",
       "5. **Enable People to Perform Actions at a Distance**: Grant access to EC2 instances remotely using secure methods like **AWS Systems Manager Session Manager** instead of relying on direct SSH or RDP access. This enhances security by limiting exposure to remote access vulnerabilities.\n",
       "\n",
       "6. **Validate Software Integrity**: Establish a process to verify the integrity of software running on your EC2 instances. Use tools like **AWS CodePipeline** and **AWS CodeCommit** to ensure only authorized and approved code changes are deployed.\n",
       "\n",
       "Regularly reviewing and updating your security controls, patching vulnerabilities, and monitoring logs and alerts are crucial steps to maintaining the security of your EC2 instances.\n",
       "\n",
       "For more detailed information, refer to the following AWS Well-Architected Framework documentation sources:\n",
       "\n",
       "- [AWS Well-Architected Framework - Security Pillar](https://docs.aws.amazon.com/wellarchitected/latest/framework/sec-06.html)\n",
       "- [AWS Well-Architected Framework - Security Pillar - Protect Compute](https://docs.aws.amazon.com/wellarchitected/latest/security-pillar/sec_protect_compute_auto_protection.html)\n",
       "- [AWS Well-Architected Framework - Security Pillar - Reduce Attack Surface](https://docs.aws.amazon.com/wellarchitected/latest/framework/sec_protect_compute_reduce_surface.html)"
      ],
      "text/plain": [
       "<IPython.core.display.Markdown object>"
      ]
     },
     "metadata": {},
     "output_type": "display_data"
    }
   ],
   "source": [
    "# Add another user message to induce our system to use the second tool\n",
    "convo.add_message(\n",
    "    \"user\",\n",
    "    \"Thats great, how about for EC2?\",\n",
    ")\n",
    "updated_response = chat_completion_with_function_execution(\n",
    "    convo.conversation_history, functions=well_arch_functions\n",
    ")\n",
    "display(Markdown(updated_response[\"choices\"][0][\"message\"][\"content\"]))"
   ]
  },
  {
   "cell_type": "code",
   "execution_count": null,
   "id": "d5c5cb33",
   "metadata": {},
   "outputs": [],
   "source": []
  }
 ],
 "metadata": {
  "kernelspec": {
   "display_name": "Python 3 (ipykernel)",
   "language": "python",
   "name": "python3"
  },
  "language_info": {
   "codemirror_mode": {
    "name": "ipython",
    "version": 3
   },
   "file_extension": ".py",
   "mimetype": "text/x-python",
   "name": "python",
   "nbconvert_exporter": "python",
   "pygments_lexer": "ipython3",
   "version": "3.11.3"
  }
 },
 "nbformat": 4,
 "nbformat_minor": 5
}
